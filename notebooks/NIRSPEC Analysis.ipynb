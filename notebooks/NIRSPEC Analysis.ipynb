{
 "cells": [
  {
   "cell_type": "code",
   "execution_count": null,
   "metadata": {},
   "outputs": [],
   "source": [
    "import numpy as np\n",
    "from pathlib import Path\n",
    "from astropy import stats\n",
    "from astropy import units as u\n",
    "from astropy.modeling import models, fitting\n",
    "\n",
    "import warnings\n",
    "from astropy.utils.exceptions import AstropyDeprecationWarning\n",
    "warnings.simplefilter('ignore', category=AstropyDeprecationWarning)\n",
    "\n",
    "from keckdata import KeckData, KeckDataList, fits_reader, analysis"
   ]
  },
  {
   "cell_type": "code",
   "execution_count": null,
   "metadata": {},
   "outputs": [],
   "source": [
    "## NIRSPEC SPEC\n",
    "\n",
    "nominal_gain = 2.85 * u.electron/u.adu\n",
    "p_darks = Path('/Volumes/JOSHW/NIRSPEC/spec')\n",
    "files = sorted([f for f in p_darks.glob('nspec*.fits')])\n",
    "kdl_biasesdarks = KeckDataList(files, verbose=False)\n",
    "print(kdl_biasesdarks.len)\n",
    "\n",
    "# CDS Mode\n",
    "kdl_cds = KeckDataList( [kd for kd in kdl_biasesdarks.frames if kd.readout_mode() == 'CDS'] )\n",
    "print(kdl_cds.len)\n",
    "\n",
    "RNcds = analysis.determine_read_noise(kdl_cds, plot=True, trim=256, gain=nominal_gain)\n",
    "for i,r in enumerate(RNcds):\n",
    "    print(f\"Read Noise (ext {i}) = {r:.2f}\")\n",
    "del(kdl_cds)\n",
    "\n",
    "# MCDS Mode\n",
    "kdl_mcds = KeckDataList( [kd for kd in kdl_biasesdarks.frames if kd.readout_mode() == 'MCDS16'] )\n",
    "print(kdl_mcds.len)\n",
    "\n",
    "RNmcds = analysis.determine_read_noise(kdl_mcds, plot=True, trim=256, gain=nominal_gain)\n",
    "for i,r in enumerate(RNmcds):\n",
    "    print(f\"Read Noise (ext {i}) = {r:.2f}\")\n",
    "del(kdl_mcds)"
   ]
  },
  {
   "cell_type": "code",
   "execution_count": null,
   "metadata": {},
   "outputs": [],
   "source": []
  }
 ],
 "metadata": {
  "kernelspec": {
   "display_name": "Python 3",
   "language": "python",
   "name": "python3"
  },
  "language_info": {
   "codemirror_mode": {
    "name": "ipython",
    "version": 3
   },
   "file_extension": ".py",
   "mimetype": "text/x-python",
   "name": "python",
   "nbconvert_exporter": "python",
   "pygments_lexer": "ipython3",
   "version": "3.6.9"
  }
 },
 "nbformat": 4,
 "nbformat_minor": 4
}
