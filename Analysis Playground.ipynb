{
 "cells": [
  {
   "cell_type": "code",
   "execution_count": 1,
   "metadata": {},
   "outputs": [
    {
     "name": "stderr",
     "output_type": "stream",
     "text": [
      "/Users/jwalawender/anaconda/lib/python3.6/site-packages/scipy/__init__.py:115: UserWarning: Numpy 1.13.3 or above is required for this version of scipy (detected version 1.11.3)\n",
      "  UserWarning)\n"
     ]
    }
   ],
   "source": [
    "import numpy as np\n",
    "from pathlib import Path\n",
    "\n",
    "from keckdata import KeckData, KeckDataList, fits_reader, analysis"
   ]
  },
  {
   "cell_type": "code",
   "execution_count": 2,
   "metadata": {},
   "outputs": [],
   "source": [
    "p1 = Path('/Volumes/JOSHW/HIRES/2019oct11')\n",
    "p2 = Path('/Volumes/JOSHW/HIRES/2019oct12')"
   ]
  },
  {
   "cell_type": "code",
   "execution_count": 3,
   "metadata": {},
   "outputs": [],
   "source": [
    "files = sorted([f for f in p1.glob('*fits')])\n",
    "files.extend( sorted([f for f in p2.glob('*fits')]) )\n",
    "kdl = KeckDataList(files, verbose=False)"
   ]
  },
  {
   "cell_type": "code",
   "execution_count": 4,
   "metadata": {},
   "outputs": [
    {
     "name": "stderr",
     "output_type": "stream",
     "text": [
      "2019-10-14 15:07:50     INFO: Making master bias from 13 frames\n",
      "2019-10-14 15:07:50     INFO: Making master bias for each of 3 extensions\n",
      "2019-10-14 15:08:00    DEBUG:   Master Bias 0 (mean, med, mode, std) = 920.4, 920.4, 920, 0.53\n",
      "2019-10-14 15:08:10    DEBUG:   Master Bias 1 (mean, med, mode, std) = 974.9, 974.8, 975, 0.56\n",
      "2019-10-14 15:08:20    DEBUG:   Master Bias 2 (mean, med, mode, std) = 906.9, 906.8, 907, 0.64\n",
      "2019-10-14 15:08:20     INFO:   Done\n"
     ]
    }
   ],
   "source": [
    "mb = analysis.make_master_bias(kdl)"
   ]
  },
  {
   "cell_type": "code",
   "execution_count": 5,
   "metadata": {},
   "outputs": [
    {
     "name": "stderr",
     "output_type": "stream",
     "text": [
      "2019-10-14 15:08:20     INFO: Determining read noise\n",
      "2019-10-14 15:08:20     INFO:   Checking that all inputs are BIAS frames\n",
      "2019-10-14 15:08:20     INFO:   Found 7 biases\n",
      "2019-10-14 15:08:20     INFO: Making master bias from 6 frames\n",
      "2019-10-14 15:08:20     INFO: Making master bias for each of 3 extensions\n",
      "2019-10-14 15:08:28    DEBUG:   Master Bias 0 (mean, med, mode, std) = 919.6, 919.7, 920, 0.61\n",
      "2019-10-14 15:08:35    DEBUG:   Master Bias 1 (mean, med, mode, std) = 973.6, 973.7, 974, 0.58\n",
      "2019-10-14 15:08:42    DEBUG:   Master Bias 2 (mean, med, mode, std) = 906.3, 906.3, 906, 0.62\n",
      "2019-10-14 15:08:42     INFO:   Done\n",
      "2019-10-14 15:08:42     INFO:   Determining read noise for each of 3 extensions\n",
      "2019-10-14 15:08:46    DEBUG:   Bias Diff (mean, med, mode, std) = 0.2, 0.2, 0, 1.43\n",
      "2019-10-14 15:08:46     INFO:   Read Noise is 1.32 adu for extension 1\n",
      "2019-10-14 15:08:50    DEBUG:   Bias Diff (mean, med, mode, std) = 0.2, 0.2, 0, 1.37\n",
      "2019-10-14 15:08:50     INFO:   Read Noise is 1.27 adu for extension 2\n",
      "2019-10-14 15:08:54    DEBUG:   Bias Diff (mean, med, mode, std) = 0.0, 0.0, 0, 1.41\n",
      "2019-10-14 15:08:54     INFO:   Read Noise is 1.31 adu for extension 3\n"
     ]
    }
   ],
   "source": [
    "rn = analysis.determine_read_noise(kdl, master_bias=mb)"
   ]
  },
  {
   "cell_type": "code",
   "execution_count": 6,
   "metadata": {},
   "outputs": [
    {
     "data": {
      "text/latex": [
       "$[1.3244911,~1.2676239,~1.3070939] \\; \\mathrm{adu}$"
      ],
      "text/plain": [
       "<Quantity [ 1.32449115, 1.26762389, 1.30709388] adu>"
      ]
     },
     "execution_count": 6,
     "metadata": {},
     "output_type": "execute_result"
    }
   ],
   "source": [
    "rn"
   ]
  },
  {
   "cell_type": "code",
   "execution_count": null,
   "metadata": {},
   "outputs": [
    {
     "name": "stderr",
     "output_type": "stream",
     "text": [
      "2019-10-14 15:08:54     INFO: Determining dark current\n",
      "2019-10-14 15:08:54     INFO:   Found 6 dark frames\n",
      "2019-10-14 15:08:54     INFO:   Determining dark current for each of 3 extensions\n",
      "2019-10-14 15:08:58    DEBUG:   Bias Diff (mean, med, std) = 0.8, 0.8, 1.40\n",
      "2019-10-14 15:09:01    DEBUG:   Bias Diff (mean, med, std) = 0.9, 0.8, 1.23\n",
      "2019-10-14 15:09:05    DEBUG:   Bias Diff (mean, med, std) = 0.6, 0.5, 1.26\n",
      "2019-10-14 15:09:08    DEBUG:   Bias Diff (mean, med, std) = 1.0, 1.0, 1.41\n",
      "2019-10-14 15:09:12    DEBUG:   Bias Diff (mean, med, std) = 1.2, 1.2, 1.25\n",
      "2019-10-14 15:09:15    DEBUG:   Bias Diff (mean, med, std) = 0.4, 0.4, 1.28\n",
      "2019-10-14 15:09:19    DEBUG:   Bias Diff (mean, med, std) = 0.7, 0.7, 1.41\n",
      "2019-10-14 15:09:23    DEBUG:   Bias Diff (mean, med, std) = 1.1, 1.2, 1.24\n",
      "2019-10-14 15:09:26    DEBUG:   Bias Diff (mean, med, std) = 0.3, 0.3, 1.26\n",
      "2019-10-14 15:09:30    DEBUG:   Bias Diff (mean, med, std) = 0.8, 0.8, 1.41\n",
      "2019-10-14 15:09:34    DEBUG:   Bias Diff (mean, med, std) = 1.8, 1.8, 1.26\n",
      "2019-10-14 15:09:38    DEBUG:   Bias Diff (mean, med, std) = 0.8, 0.8, 1.27\n",
      "2019-10-14 15:09:41    DEBUG:   Bias Diff (mean, med, std) = 1.3, 1.3, 1.45\n",
      "2019-10-14 15:09:45    DEBUG:   Bias Diff (mean, med, std) = 2.0, 2.0, 1.30\n"
     ]
    }
   ],
   "source": [
    "dc = analysis.determine_dark_current(kdl, master_bias=mb)"
   ]
  },
  {
   "cell_type": "code",
   "execution_count": null,
   "metadata": {},
   "outputs": [],
   "source": [
    "dc"
   ]
  },
  {
   "cell_type": "code",
   "execution_count": null,
   "metadata": {},
   "outputs": [],
   "source": []
  }
 ],
 "metadata": {
  "kernelspec": {
   "display_name": "Python 3",
   "language": "python",
   "name": "python3"
  },
  "language_info": {
   "codemirror_mode": {
    "name": "ipython",
    "version": 3
   },
   "file_extension": ".py",
   "mimetype": "text/x-python",
   "name": "python",
   "nbconvert_exporter": "python",
   "pygments_lexer": "ipython3",
   "version": "3.6.9"
  }
 },
 "nbformat": 4,
 "nbformat_minor": 2
}
