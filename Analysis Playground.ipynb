{
 "cells": [
  {
   "cell_type": "code",
   "execution_count": 1,
   "metadata": {},
   "outputs": [
    {
     "name": "stderr",
     "output_type": "stream",
     "text": [
      "/Users/jwalawender/anaconda/lib/python3.6/site-packages/scipy/__init__.py:115: UserWarning: Numpy 1.13.3 or above is required for this version of scipy (detected version 1.11.3)\n",
      "  UserWarning)\n"
     ]
    }
   ],
   "source": [
    "import numpy as np\n",
    "from pathlib import Path\n",
    "from astropy import stats\n",
    "from astropy import units as u\n",
    "from astropy.modeling import models, fitting\n",
    "\n",
    "from keckdata import KeckData, KeckDataList, fits_reader, analysis\n",
    "\n",
    "%matplotlib inline\n",
    "from matplotlib import pyplot as plt"
   ]
  },
  {
   "cell_type": "code",
   "execution_count": 2,
   "metadata": {},
   "outputs": [],
   "source": [
    "p_2019oct11 = Path('/Volumes/JOSHW/HIRES/2019oct11')\n",
    "files = sorted([f for f in p_2019oct11.glob('*fits')])\n",
    "p_2019oct12 = Path('/Volumes/JOSHW/HIRES/2019oct12')\n",
    "files.extend( sorted([f for f in p_2019oct12.glob('*fits')]) )\n",
    "kdl_biasesdarks = KeckDataList(files, verbose=False)\n",
    "\n",
    "p_2019oct19 = Path('/Volumes/JOSHW/HIRES/2019oct19')\n",
    "# files = sorted([f for f in p_2019oct19.glob('hires00[02][1-6].fits')])\n",
    "files = sorted([f for f in p_2019oct19.glob('hires*.fits')])\n",
    "kdl_flats = KeckDataList(files, verbose=False)"
   ]
  },
  {
   "cell_type": "code",
   "execution_count": 3,
   "metadata": {},
   "outputs": [
    {
     "data": {
      "text/plain": [
       "36"
      ]
     },
     "execution_count": 3,
     "metadata": {},
     "output_type": "execute_result"
    }
   ],
   "source": [
    "kdl_flats.len"
   ]
  },
  {
   "cell_type": "code",
   "execution_count": 4,
   "metadata": {},
   "outputs": [
    {
     "name": "stderr",
     "output_type": "stream",
     "text": [
      "2019-10-27 23:21:43     INFO: Making master bias from 13 frames\n",
      "2019-10-27 23:21:43     INFO: Making master bias for each of 3 extensions\n",
      "2019-10-27 23:22:15     INFO:   Done\n"
     ]
    }
   ],
   "source": [
    "mb = analysis.make_master_bias(kdl_biasesdarks)"
   ]
  },
  {
   "cell_type": "code",
   "execution_count": 5,
   "metadata": {},
   "outputs": [
    {
     "name": "stderr",
     "output_type": "stream",
     "text": [
      "2019-10-27 23:22:15     INFO: Determining read noise\n",
      "2019-10-27 23:22:15     INFO:   Checking that all inputs are BIAS frames\n",
      "2019-10-27 23:22:15     INFO:   Found 7 biases\n",
      "2019-10-27 23:22:15     INFO: Making master bias from 6 frames\n",
      "2019-10-27 23:22:15     INFO: Making master bias for each of 3 extensions\n",
      "2019-10-27 23:22:37     INFO:   Done\n",
      "2019-10-27 23:22:37     INFO:   Determining read noise for each of 3 extensions\n",
      "2019-10-27 23:22:41     INFO:   Read Noise is 1.32 adu for extension 1\n",
      "2019-10-27 23:22:46     INFO:   Read Noise is 1.27 adu for extension 2\n",
      "2019-10-27 23:22:50     INFO:   Read Noise is 1.31 adu for extension 3\n"
     ]
    }
   ],
   "source": [
    "RN = analysis.determine_read_noise(kdl_biasesdarks, master_bias=mb, plot=False)"
   ]
  },
  {
   "cell_type": "code",
   "execution_count": 6,
   "metadata": {},
   "outputs": [
    {
     "data": {
      "text/latex": [
       "$[1.3244911,~1.2676239,~1.3070939] \\; \\mathrm{adu}$"
      ],
      "text/plain": [
       "<Quantity [ 1.32449115, 1.26762389, 1.30709388] adu>"
      ]
     },
     "execution_count": 6,
     "metadata": {},
     "output_type": "execute_result"
    }
   ],
   "source": [
    "RN"
   ]
  },
  {
   "cell_type": "code",
   "execution_count": 7,
   "metadata": {},
   "outputs": [],
   "source": [
    "dc = analysis.determine_dark_current(kdl_biasesdarks, master_bias=mb, plot=False)"
   ]
  },
  {
   "cell_type": "code",
   "execution_count": 8,
   "metadata": {},
   "outputs": [],
   "source": [
    "dc"
   ]
  },
  {
   "cell_type": "code",
   "execution_count": null,
   "metadata": {},
   "outputs": [
    {
     "name": "stderr",
     "output_type": "stream",
     "text": [
      "2019-10-27 23:22:50     INFO: Determining gain\n",
      "2019-10-27 23:22:50     INFO: Step 1: Get image statistics for 36 flat frames\n",
      "2019-10-27 23:22:50     INFO: Each frame has 3 extensions\n"
     ]
    }
   ],
   "source": [
    "g = analysis.determine_gain(kdl_flats, master_bias=mb, read_noise=RN, plot=True)"
   ]
  },
  {
   "cell_type": "code",
   "execution_count": null,
   "metadata": {},
   "outputs": [],
   "source": [
    "g"
   ]
  },
  {
   "cell_type": "code",
   "execution_count": null,
   "metadata": {},
   "outputs": [],
   "source": []
  }
 ],
 "metadata": {
  "kernelspec": {
   "display_name": "Python 3",
   "language": "python",
   "name": "python3"
  },
  "language_info": {
   "codemirror_mode": {
    "name": "ipython",
    "version": 3
   },
   "file_extension": ".py",
   "mimetype": "text/x-python",
   "name": "python",
   "nbconvert_exporter": "python",
   "pygments_lexer": "ipython3",
   "version": "3.6.9"
  }
 },
 "nbformat": 4,
 "nbformat_minor": 4
}
