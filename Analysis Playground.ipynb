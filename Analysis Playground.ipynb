{
 "cells": [
  {
   "cell_type": "code",
   "execution_count": 1,
   "metadata": {},
   "outputs": [
    {
     "name": "stderr",
     "output_type": "stream",
     "text": [
      "/Users/jwalawender/anaconda/lib/python3.6/site-packages/scipy/__init__.py:115: UserWarning: Numpy 1.13.3 or above is required for this version of scipy (detected version 1.11.3)\n",
      "  UserWarning)\n"
     ]
    }
   ],
   "source": [
    "import numpy as np\n",
    "from pathlib import Path\n",
    "from astropy import stats\n",
    "from astropy import units as u\n",
    "from astropy.modeling import models, fitting\n",
    "\n",
    "from keckdata import KeckData, KeckDataList, fits_reader, analysis\n",
    "\n",
    "# %matplotlib inline\n",
    "# from matplotlib import pyplot as plt"
   ]
  },
  {
   "cell_type": "code",
   "execution_count": null,
   "metadata": {},
   "outputs": [],
   "source": [
    "## NIRSPEC SPEC\n",
    "\n",
    "nominal_gain = 2.85 * u.electron/u.adu\n",
    "p_darks = Path('/Volumes/JOSHW/NIRSPEC/spec')\n",
    "files = sorted([f for f in p_darks.glob('nspec*.fits')])\n",
    "kdl_biasesdarks = KeckDataList(files, verbose=False)\n",
    "print(kdl_biasesdarks.len)\n",
    "\n",
    "# CDS Mode\n",
    "kdl_cds = KeckDataList( [kd for kd in kdl_biasesdarks.frames if kd.readout_mode() == 'CDS'] )\n",
    "print(kdl_cds.len)\n",
    "\n",
    "RNcds = analysis.determine_read_noise(kdl_cds, plot=True, trim=256, gain=nominal_gain)\n",
    "for i,r in enumerate(RNcds):\n",
    "    print(f\"Read Noise (ext {i}) = {r:.2f}\")\n",
    "del(kdl_cds)\n",
    "\n",
    "# MCDS Mode\n",
    "kdl_mcds = KeckDataList( [kd for kd in kdl_biasesdarks.frames if kd.readout_mode() == 'MCDS16'] )\n",
    "print(kdl_mcds.len)\n",
    "\n",
    "RNmcds = analysis.determine_read_noise(kdl_mcds, plot=True, trim=256, gain=nominal_gain)\n",
    "for i,r in enumerate(RNmcds):\n",
    "    print(f\"Read Noise (ext {i}) = {r:.2f}\")\n",
    "del(kdl_mcds)"
   ]
  },
  {
   "cell_type": "code",
   "execution_count": null,
   "metadata": {},
   "outputs": [],
   "source": [
    "## MOSFIRE\n",
    "\n",
    "nominal_gain = 2.15 * u.electron/u.adu\n",
    "p_darks = Path('/Volumes/JOSHW/MOSFIRE_Darks/2019oct29')\n",
    "files = sorted([f for f in p_darks.glob('m*.fits')])\n",
    "kdl_biasesdarks = KeckDataList(files, verbose=False)\n",
    "\n",
    "# CDS Mode\n",
    "kdl_cds = KeckDataList( [kd for kd in kdl_biasesdarks.frames if kd.readout_mode() == 'CDS'] )\n",
    "\n",
    "RNcds = analysis.determine_read_noise(kdl_cds, plot=True, trim=256, gain=nominal_gain)\n",
    "for i,r in enumerate(RNcds):\n",
    "    print(f\"Read Noise (ext {i}) = {r:.2f}\")\n",
    "del(kdl_cds)\n",
    "\n",
    "# MCDS Mode\n",
    "kdl_mcds16 = KeckDataList( [kd for kd in kdl_biasesdarks.frames if kd.readout_mode() == 'MCDS16'] )\n",
    "\n",
    "RNmcds = analysis.determine_read_noise(kdl_mcds16, plot=True, trim=256, gain=nominal_gain)\n",
    "for i,r in enumerate(RNmcds):\n",
    "    print(f\"Read Noise (ext {i}) = {r:.2f}\")\n",
    "del(kdl_mcds16)"
   ]
  },
  {
   "cell_type": "code",
   "execution_count": null,
   "metadata": {},
   "outputs": [],
   "source": [
    "## HIRES\n",
    "\n",
    "p_2019oct11 = Path('/Volumes/JOSHW/HIRES/2019oct11')\n",
    "files = sorted([f for f in p_2019oct11.glob('*fits')])\n",
    "p_2019oct12 = Path('/Volumes/JOSHW/HIRES/2019oct12')\n",
    "files.extend( sorted([f for f in p_2019oct12.glob('*fits')]) )\n",
    "kdl_biasesdarks = KeckDataList(files, verbose=False)\n",
    "\n",
    "p_2019oct19 = Path('/Volumes/JOSHW/HIRES/2019oct19')\n",
    "files = sorted([f for f in p_2019oct19.glob('hires*.fits')])\n",
    "kdl_flats = KeckDataList(files, verbose=False)\n",
    "\n",
    "RN = analysis.determine_read_noise(kdl_biasesdarks, plot=True, trim=256)\n",
    "for i,r in enumerate(RN):\n",
    "    print(f\"Read Noise (ext {i}) = {r:.2f}\")\n",
    "\n",
    "master_bias = analysis.make_master_bias(kdl_biasesdarks)\n",
    "DC = analysis.determine_dark_current(kdl_biasesdarks, master_bias=master_bias, plot=True, trim=256, nozero=True)\n",
    "for i,d in enumerate(DC):\n",
    "    print(f\"Dark Current (ext {i}) = {d:.4f}\")\n",
    "del(kdl_biasesdarks)\n",
    "\n",
    "g = analysis.determine_gain(kdl_flats, master_bias=master_bias, read_noise=RN, aduthreshold=25000, plot=True)\n",
    "for i,gi in enumerate(g):\n",
    "    print(f\"Gain (ext {i}) = {gi:.2f}\")\n",
    "del(kdl_flats)\n",
    "\n",
    "for i,r in enumerate(RN):\n",
    "    print(f\"Read Noise (ext {i}) = {r*g[i]:.2f}\")\n",
    "for i,d in enumerate(DC):\n",
    "    print(f\"Dark Current (ext {i}) = {d*g[i]:.4f}\")"
   ]
  },
  {
   "cell_type": "code",
   "execution_count": null,
   "metadata": {},
   "outputs": [],
   "source": []
  }
 ],
 "metadata": {
  "kernelspec": {
   "display_name": "Python 3",
   "language": "python",
   "name": "python3"
  },
  "language_info": {
   "codemirror_mode": {
    "name": "ipython",
    "version": 3
   },
   "file_extension": ".py",
   "mimetype": "text/x-python",
   "name": "python",
   "nbconvert_exporter": "python",
   "pygments_lexer": "ipython3",
   "version": "3.6.9"
  }
 },
 "nbformat": 4,
 "nbformat_minor": 4
}
