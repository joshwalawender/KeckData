{
 "cells": [
  {
   "cell_type": "code",
   "execution_count": 1,
   "metadata": {},
   "outputs": [
    {
     "name": "stderr",
     "output_type": "stream",
     "text": [
      "/Users/jwalawender/anaconda/lib/python3.6/site-packages/scipy/__init__.py:115: UserWarning: Numpy 1.13.3 or above is required for this version of scipy (detected version 1.11.3)\n",
      "  UserWarning)\n"
     ]
    }
   ],
   "source": [
    "import numpy as np\n",
    "from pathlib import Path\n",
    "from astropy import stats\n",
    "from astropy import units as u\n",
    "from astropy.modeling import models, fitting\n",
    "\n",
    "from keckdata import KeckData, KeckDataList, fits_reader, analysis\n",
    "\n",
    "%matplotlib inline\n",
    "from matplotlib import pyplot as plt"
   ]
  },
  {
   "cell_type": "code",
   "execution_count": 2,
   "metadata": {},
   "outputs": [],
   "source": [
    "## HIRES\n",
    "# p_2019oct11 = Path('/Volumes/JOSHW/HIRES/2019oct11')\n",
    "# files = sorted([f for f in p_2019oct11.glob('*fits')])\n",
    "# p_2019oct12 = Path('/Volumes/JOSHW/HIRES/2019oct12')\n",
    "# files.extend( sorted([f for f in p_2019oct12.glob('*fits')]) )\n",
    "# kdl_biasesdarks = KeckDataList(files, verbose=False)\n",
    "# p_2019oct19 = Path('/Volumes/JOSHW/HIRES/2019oct19')\n",
    "# files = sorted([f for f in p_2019oct19.glob('hires*.fits')])\n",
    "# kdl_flats = KeckDataList(files, verbose=False)"
   ]
  },
  {
   "cell_type": "code",
   "execution_count": 3,
   "metadata": {},
   "outputs": [
    {
     "data": {
      "text/plain": [
       "41"
      ]
     },
     "execution_count": 3,
     "metadata": {},
     "output_type": "execute_result"
    }
   ],
   "source": [
    "## MOSFIRE\n",
    "p_darks = Path('/Volumes/JOSHW/MOSFIRE_Darks/2019oct29')\n",
    "files = sorted([f for f in p_darks.glob('m*.fits')])\n",
    "kdl_biasesdarks = KeckDataList(files, verbose=False)\n",
    "kdl_biasesdarks.len"
   ]
  },
  {
   "cell_type": "code",
   "execution_count": 4,
   "metadata": {},
   "outputs": [
    {
     "name": "stdout",
     "output_type": "stream",
     "text": [
      "m191029_0001.fits -36.6827\n",
      "m191029_0002.fits -32.6377\n",
      "m191029_0003.fits -31.6503\n",
      "m191029_0004.fits -31.8553\n",
      "m191029_0005.fits -36.9383\n",
      "m191029_0006.fits -36.2607\n",
      "m191029_0024.fits -35.1824\n",
      "m191029_0025.fits -33.9524\n",
      "m191029_0026.fits -34.1434\n",
      "m191029_0027.fits -34.5717\n",
      "m191029_0028.fits -34.1084\n",
      "m191029_0029.fits -34.4193\n",
      "m191029_0030.fits -34.2039\n",
      "m191029_0031.fits -32.6351\n",
      "m191029_0032.fits -34.5549\n",
      "m191029_0033.fits -33.8072\n"
     ]
    }
   ],
   "source": [
    "for frame in kdl_biasesdarks.frames:\n",
    "    if frame.type() == 'BIAS':\n",
    "        print(frame.filename(), frame.pixeldata[0].data.mean())"
   ]
  },
  {
   "cell_type": "code",
   "execution_count": 5,
   "metadata": {},
   "outputs": [
    {
     "name": "stdout",
     "output_type": "stream",
     "text": [
      "m191029_0008.fits 7.76171\n",
      "m191029_0009.fits 8.90487\n",
      "m191029_0010.fits 8.4605\n",
      "m191029_0011.fits 8.71073\n",
      "m191029_0012.fits 13.3695\n",
      "m191029_0013.fits 13.5939\n",
      "m191029_0014.fits 15.4492\n",
      "m191029_0015.fits 10.7948\n",
      "m191029_0016.fits 10.7278\n",
      "m191029_0017.fits 15.0667\n",
      "m191029_0018.fits 15.01\n",
      "m191029_0019.fits 15.233\n",
      "m191029_0020.fits 14.5273\n",
      "m191029_0021.fits 13.262\n",
      "m191029_0022.fits 12.5923\n",
      "m191029_0034.fits 4.1302\n",
      "m191029_0035.fits 5.36794\n",
      "m191029_0036.fits 10.4332\n",
      "m191029_0037.fits 10.7084\n",
      "m191029_0038.fits 12.6224\n",
      "m191029_0039.fits 8.84014\n",
      "m191029_0040.fits 9.42328\n",
      "m191029_0041.fits 8.7447\n",
      "m191029_0042.fits 4.25531\n",
      "m191029_0043.fits 6.44901\n"
     ]
    }
   ],
   "source": [
    "for frame in kdl_biasesdarks.frames:\n",
    "    if frame.type() == 'DARK':\n",
    "        print(frame.filename(), frame.pixeldata[0].data.mean())"
   ]
  },
  {
   "cell_type": "code",
   "execution_count": null,
   "metadata": {},
   "outputs": [],
   "source": []
  },
  {
   "cell_type": "code",
   "execution_count": 6,
   "metadata": {},
   "outputs": [
    {
     "name": "stderr",
     "output_type": "stream",
     "text": [
      "2019-10-28 11:54:51     INFO: Making master bias from 16 frames\n",
      "2019-10-28 11:54:51     INFO: Making master bias for each of 1 extensions\n",
      "2019-10-28 11:55:04     INFO:   Done\n"
     ]
    }
   ],
   "source": [
    "mb = analysis.make_master_bias(kdl_biasesdarks)"
   ]
  },
  {
   "cell_type": "code",
   "execution_count": 7,
   "metadata": {},
   "outputs": [
    {
     "data": {
      "text/plain": [
       "-34.22522822022438"
      ]
     },
     "execution_count": 7,
     "metadata": {},
     "output_type": "execute_result"
    }
   ],
   "source": [
    "mb.pixeldata[0].data.mean()"
   ]
  },
  {
   "cell_type": "code",
   "execution_count": 8,
   "metadata": {},
   "outputs": [
    {
     "name": "stderr",
     "output_type": "stream",
     "text": [
      "2019-10-28 11:55:04     INFO: Determining read noise\n",
      "2019-10-28 11:55:04     INFO:   Checking that all inputs are BIAS frames\n",
      "2019-10-28 11:55:04     INFO:   Found 16 biases\n",
      "2019-10-28 11:55:04     INFO: Making master bias from 15 frames\n",
      "2019-10-28 11:55:04     INFO: Making master bias for each of 1 extensions\n",
      "2019-10-28 11:55:15     INFO:   Done\n",
      "2019-10-28 11:55:16     INFO:   Determining read noise for each of 1 extensions\n",
      "2019-10-28 11:55:20     INFO:   Read Noise is 10.29 adu for extension 1\n"
     ]
    }
   ],
   "source": [
    "RN = analysis.determine_read_noise(kdl_biasesdarks, master_bias=mb, plot=False, trim=100)"
   ]
  },
  {
   "cell_type": "code",
   "execution_count": 9,
   "metadata": {},
   "outputs": [
    {
     "data": {
      "text/latex": [
       "$[10.285775] \\; \\mathrm{adu}$"
      ],
      "text/plain": [
       "<Quantity [ 10.28577467] adu>"
      ]
     },
     "execution_count": 9,
     "metadata": {},
     "output_type": "execute_result"
    }
   ],
   "source": [
    "RN"
   ]
  },
  {
   "cell_type": "code",
   "execution_count": 10,
   "metadata": {},
   "outputs": [
    {
     "name": "stderr",
     "output_type": "stream",
     "text": [
      "2019-10-28 11:55:20     INFO: Determining dark current\n",
      "2019-10-28 11:55:20     INFO:   Found 25 dark frames\n",
      "2019-10-28 11:55:20     INFO:   Determining dark current for each of 1 extensions\n",
      "2019-10-28 11:56:42     INFO:   Obtained statistics for frames with 5 different exposure times\n",
      "2019-10-28 11:56:42     INFO:   Determining dark current from\n",
      "2019-10-28 11:56:42     INFO:     5 2 second darks\n",
      "2019-10-28 11:56:42     INFO:     5 7 second darks\n",
      "2019-10-28 11:56:42     INFO:     5 29 second darks\n",
      "2019-10-28 11:56:42     INFO:     5 88 second darks\n",
      "2019-10-28 11:56:42     INFO:     5 178 second darks\n",
      "2019-10-28 11:56:42     INFO:   Dark Current is -0.011 adu / s for extension 1\n",
      "2019-10-28 11:56:42     INFO:   Generating plot for dark current for frame 0\n",
      "2019-10-28 11:56:42     INFO:   Generating dark current plot: dark_current_ext0_2019-10-28T203934.76.png\n"
     ]
    },
    {
     "data": {
      "image/png": "[encoded data removed]",
      "text/plain": [
       "<Figure size 864x432 with 1 Axes>"
      ]
     },
     "metadata": {
      "needs_background": "light"
     },
     "output_type": "display_data"
    }
   ],
   "source": [
    "DC = analysis.determine_dark_current(kdl_biasesdarks, master_bias=mb, plot=True, trim=100, nozero=True, usemedian=True)"
   ]
  },
  {
   "cell_type": "code",
   "execution_count": 11,
   "metadata": {},
   "outputs": [
    {
     "data": {
      "text/latex": [
       "$[-0.011092197] \\; \\mathrm{\\frac{adu}{s}}$"
      ],
      "text/plain": [
       "<Quantity [-0.0110922] adu / s>"
      ]
     },
     "execution_count": 11,
     "metadata": {},
     "output_type": "execute_result"
    }
   ],
   "source": [
    "DC"
   ]
  },
  {
   "cell_type": "code",
   "execution_count": null,
   "metadata": {},
   "outputs": [],
   "source": []
  },
  {
   "cell_type": "code",
   "execution_count": null,
   "metadata": {},
   "outputs": [],
   "source": []
  },
  {
   "cell_type": "code",
   "execution_count": 12,
   "metadata": {},
   "outputs": [],
   "source": [
    "# g = analysis.determine_gain(kdl_flats, master_bias=mb, read_noise=RN, plot=True)"
   ]
  },
  {
   "cell_type": "code",
   "execution_count": 13,
   "metadata": {},
   "outputs": [],
   "source": [
    "# g"
   ]
  },
  {
   "cell_type": "code",
   "execution_count": null,
   "metadata": {},
   "outputs": [],
   "source": []
  }
 ],
 "metadata": {
  "kernelspec": {
   "display_name": "Python 3",
   "language": "python",
   "name": "python3"
  },
  "language_info": {
   "codemirror_mode": {
    "name": "ipython",
    "version": 3
   },
   "file_extension": ".py",
   "mimetype": "text/x-python",
   "name": "python",
   "nbconvert_exporter": "python",
   "pygments_lexer": "ipython3",
   "version": "3.6.9"
  }
 },
 "nbformat": 4,
 "nbformat_minor": 4
}
