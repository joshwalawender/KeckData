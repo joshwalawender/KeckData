{
 "cells": [
  {
   "cell_type": "code",
   "execution_count": 1,
   "metadata": {},
   "outputs": [
    {
     "name": "stderr",
     "output_type": "stream",
     "text": [
      "/Users/jwalawender/anaconda/lib/python3.6/site-packages/scipy/__init__.py:115: UserWarning: Numpy 1.13.3 or above is required for this version of scipy (detected version 1.11.3)\n",
      "  UserWarning)\n"
     ]
    },
    {
     "ename": "ValueError",
     "evalue": "attempted relative import beyond top-level package",
     "output_type": "error",
     "traceback": [
      "\u001b[0;31m---------------------------------------------------------------------------\u001b[0m",
      "\u001b[0;31mValueError\u001b[0m                                Traceback (most recent call last)",
      "\u001b[0;32m<ipython-input-1-99ff7ba64a26>\u001b[0m in \u001b[0;36m<module>\u001b[0;34m\u001b[0m\n\u001b[1;32m      2\u001b[0m \u001b[0;32mfrom\u001b[0m \u001b[0mpathlib\u001b[0m \u001b[0;32mimport\u001b[0m \u001b[0mPath\u001b[0m\u001b[0;34m\u001b[0m\u001b[0;34m\u001b[0m\u001b[0m\n\u001b[1;32m      3\u001b[0m \u001b[0;34m\u001b[0m\u001b[0m\n\u001b[0;32m----> 4\u001b[0;31m \u001b[0;32mimport\u001b[0m \u001b[0manalysis\u001b[0m\u001b[0;34m\u001b[0m\u001b[0;34m\u001b[0m\u001b[0m\n\u001b[0m\u001b[1;32m      5\u001b[0m \u001b[0;32mfrom\u001b[0m \u001b[0mkeckdata\u001b[0m \u001b[0;32mimport\u001b[0m \u001b[0mKeckData\u001b[0m\u001b[0;34m,\u001b[0m \u001b[0mKeckDataList\u001b[0m\u001b[0;34m,\u001b[0m \u001b[0mfits_reader\u001b[0m\u001b[0;34m\u001b[0m\u001b[0;34m\u001b[0m\u001b[0m\n",
      "\u001b[0;32m~/git/KeckData/analysis/__init__.py\u001b[0m in \u001b[0;36m<module>\u001b[0;34m\u001b[0m\n\u001b[0;32m----> 1\u001b[0;31m \u001b[0;32mfrom\u001b[0m \u001b[0;34m.\u001b[0m\u001b[0mcore\u001b[0m \u001b[0;32mimport\u001b[0m \u001b[0;34m*\u001b[0m\u001b[0;34m\u001b[0m\u001b[0;34m\u001b[0m\u001b[0m\n\u001b[0m\u001b[1;32m      2\u001b[0m \u001b[0;32mfrom\u001b[0m \u001b[0;34m.\u001b[0m\u001b[0mccdcharacteristics\u001b[0m \u001b[0;32mimport\u001b[0m \u001b[0;34m*\u001b[0m\u001b[0;34m\u001b[0m\u001b[0;34m\u001b[0m\u001b[0m\n",
      "\u001b[0;32m~/git/KeckData/analysis/core.py\u001b[0m in \u001b[0;36m<module>\u001b[0;34m\u001b[0m\n\u001b[1;32m     10\u001b[0m \u001b[0;32mimport\u001b[0m \u001b[0mccdproc\u001b[0m\u001b[0;34m\u001b[0m\u001b[0;34m\u001b[0m\u001b[0m\n\u001b[1;32m     11\u001b[0m \u001b[0;34m\u001b[0m\u001b[0m\n\u001b[0;32m---> 12\u001b[0;31m \u001b[0;32mfrom\u001b[0m \u001b[0;34m.\u001b[0m\u001b[0;34m.\u001b[0m \u001b[0;32mimport\u001b[0m \u001b[0mcreate_log\u001b[0m\u001b[0;34m\u001b[0m\u001b[0;34m\u001b[0m\u001b[0m\n\u001b[0m\u001b[1;32m     13\u001b[0m \u001b[0;32mfrom\u001b[0m \u001b[0;34m.\u001b[0m\u001b[0;34m.\u001b[0m \u001b[0;32mimport\u001b[0m \u001b[0mKeckData\u001b[0m\u001b[0;34m,\u001b[0m \u001b[0mKeckDataList\u001b[0m\u001b[0;34m\u001b[0m\u001b[0;34m\u001b[0m\u001b[0m\n\u001b[1;32m     14\u001b[0m \u001b[0;34m\u001b[0m\u001b[0m\n",
      "\u001b[0;31mValueError\u001b[0m: attempted relative import beyond top-level package"
     ]
    }
   ],
   "source": [
    "import numpy as np\n",
    "from pathlib import Path\n",
    "\n",
    "import analysis\n",
    "from keckdata import KeckData, KeckDataList, fits_reader"
   ]
  },
  {
   "cell_type": "code",
   "execution_count": 2,
   "metadata": {},
   "outputs": [],
   "source": [
    "p1 = Path('/Volumes/JOSHW/HIRES/2019oct11')\n",
    "p2 = Path('/Volumes/JOSHW/HIRES/2019oct12')"
   ]
  },
  {
   "cell_type": "code",
   "execution_count": 3,
   "metadata": {},
   "outputs": [],
   "source": [
    "files = sorted([f for f in p1.glob('*fits')])\n",
    "files.extend( sorted([f for f in p2.glob('*fits')]) )\n",
    "kdl = KeckDataList(files, verbose=False)"
   ]
  },
  {
   "cell_type": "code",
   "execution_count": 4,
   "metadata": {},
   "outputs": [
    {
     "name": "stderr",
     "output_type": "stream",
     "text": [
      "2019-10-14 14:26:12,990     INFO: Making master bias from 13 frames\n",
      "2019-10-14 14:26:12,992     INFO: Making master bias for each of 3 extensions\n",
      "2019-10-14 14:26:51,360     INFO:   Done\n"
     ]
    }
   ],
   "source": [
    "mb = analysis.make_master_bias(kdl)"
   ]
  },
  {
   "cell_type": "code",
   "execution_count": 5,
   "metadata": {},
   "outputs": [
    {
     "name": "stderr",
     "output_type": "stream",
     "text": [
      "2019-10-14 14:26:51,375     INFO: Determining read noise\n",
      "2019-10-14 14:26:51,376     INFO:   Checking that all inputs are BIAS frames\n",
      "2019-10-14 14:26:51,379     INFO:   Found 7 biases\n",
      "2019-10-14 14:26:51,380     INFO: Making master bias from 6 frames\n",
      "2019-10-14 14:26:51,381     INFO: Making master bias for each of 3 extensions\n",
      "2019-10-14 14:27:15,257     INFO:   Done\n",
      "2019-10-14 14:27:15,370     INFO:   Determining read noise for each of 3 extensions\n",
      "2019-10-14 14:27:19,741     INFO:   Read Noise is 1.32 adu for extension 1\n",
      "2019-10-14 14:27:24,261     INFO:   Read Noise is 1.27 adu for extension 2\n",
      "2019-10-14 14:27:28,466     INFO:   Read Noise is 1.31 adu for extension 3\n"
     ]
    }
   ],
   "source": [
    "rn = analysis.determine_read_noise(kdl, master_bias=mb)"
   ]
  },
  {
   "cell_type": "code",
   "execution_count": 6,
   "metadata": {},
   "outputs": [
    {
     "data": {
      "text/latex": [
       "$[1.3244911,~1.2676239,~1.3070939] \\; \\mathrm{adu}$"
      ],
      "text/plain": [
       "<Quantity [ 1.32449115, 1.26762389, 1.30709388] adu>"
      ]
     },
     "execution_count": 6,
     "metadata": {},
     "output_type": "execute_result"
    }
   ],
   "source": [
    "rn"
   ]
  },
  {
   "cell_type": "code",
   "execution_count": 7,
   "metadata": {},
   "outputs": [
    {
     "name": "stderr",
     "output_type": "stream",
     "text": [
      "2019-10-14 14:27:28,498     INFO: Determining dark current\n",
      "2019-10-14 14:27:28,502     INFO:   Found 6 dark frames\n",
      "2019-10-14 14:27:28,504     INFO:   Determining dark current for each of 3 extensions\n",
      "2019-10-14 14:28:43,134     INFO:   Obtained statistics for frames with 6 different exposure times\n",
      "2019-10-14 14:28:43,135     INFO:   Determining dark current from\n",
      "2019-10-14 14:28:43,136     INFO:     3 60 second darks\n",
      "2019-10-14 14:28:43,138     INFO:     3 300 second darks\n",
      "2019-10-14 14:28:43,145     INFO:   Dark Current is 0.004 adu / s for extension 1\n",
      "2019-10-14 14:28:43,147     INFO:   Dark Current is 0.007 adu / s for extension 2\n",
      "2019-10-14 14:28:43,151     INFO:   Dark Current is 0.003 adu / s for extension 3\n"
     ]
    }
   ],
   "source": [
    "dc = analysis.determine_dark_current(kdl, master_bias=mb)"
   ]
  },
  {
   "cell_type": "code",
   "execution_count": 8,
   "metadata": {},
   "outputs": [
    {
     "data": {
      "text/latex": [
       "$[0.0035885527,~0.0065043738,~0.0026597177] \\; \\mathrm{\\frac{adu}{s}}$"
      ],
      "text/plain": [
       "<Quantity [ 0.00358855, 0.00650437, 0.00265972] adu / s>"
      ]
     },
     "execution_count": 8,
     "metadata": {},
     "output_type": "execute_result"
    }
   ],
   "source": [
    "dc"
   ]
  },
  {
   "cell_type": "code",
   "execution_count": null,
   "metadata": {},
   "outputs": [],
   "source": []
  }
 ],
 "metadata": {
  "kernelspec": {
   "display_name": "Python 3",
   "language": "python",
   "name": "python3"
  },
  "language_info": {
   "codemirror_mode": {
    "name": "ipython",
    "version": 3
   },
   "file_extension": ".py",
   "mimetype": "text/x-python",
   "name": "python",
   "nbconvert_exporter": "python",
   "pygments_lexer": "ipython3",
   "version": "3.6.9"
  }
 },
 "nbformat": 4,
 "nbformat_minor": 2
}
