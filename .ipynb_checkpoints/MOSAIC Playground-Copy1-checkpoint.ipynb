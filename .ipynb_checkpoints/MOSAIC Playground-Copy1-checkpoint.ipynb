{
 "cells": [
  {
   "cell_type": "code",
   "execution_count": 1,
   "metadata": {},
   "outputs": [
    {
     "name": "stderr",
     "output_type": "stream",
     "text": [
      "/Users/jwalawender/anaconda/lib/python3.6/site-packages/scipy/__init__.py:115: UserWarning: Numpy 1.13.3 or above is required for this version of scipy (detected version 1.11.3)\n",
      "  UserWarning)\n"
     ]
    }
   ],
   "source": [
    "from pathlib import Path\n",
    "\n",
    "import numpy as np\n",
    "from astropy.io import fits\n",
    "from astropy.nddata import CCDData\n",
    "from astropy.visualization import (MinMaxInterval, PercentileInterval,\n",
    "                                   AsymmetricPercentileInterval, ImageNormalize)\n",
    "\n",
    "from matplotlib import pyplot as plt\n",
    "\n",
    "from keckdata import KeckData, KeckDataList, fits_reader, split_fits_section"
   ]
  },
  {
   "cell_type": "code",
   "execution_count": 2,
   "metadata": {},
   "outputs": [
    {
     "name": "stdout",
     "output_type": "stream",
     "text": [
      "Repairing data\n",
      "(2048, 577)\n",
      "[1:1024,1:4096]\n",
      "[1:512,1:2048]\n",
      "\n",
      "(2048, 577)\n",
      "[2048:1025,1:4096]\n",
      "[513:1024,1:2048]\n",
      "\n",
      "(2048, 577)\n",
      "[2049:3072,1:4096]\n",
      "[1025:1536,1:2048]\n",
      "\n",
      "(2048, 577)\n",
      "[4096:3073,1:4096]\n",
      "[1537:2048,1:2048]\n",
      "\n"
     ]
    },
    {
     "ename": "ValueError",
     "evalue": "could not broadcast input array from shape (2048,512) into shape (1024,512)",
     "output_type": "error",
     "traceback": [
      "\u001b[0;31m---------------------------------------------------------------------------\u001b[0m",
      "\u001b[0;31mValueError\u001b[0m                                Traceback (most recent call last)",
      "\u001b[0;32m<ipython-input-2-25ef5dc4d586>\u001b[0m in \u001b[0;36m<module>\u001b[0;34m\u001b[0m\n\u001b[1;32m     35\u001b[0m \u001b[0;34m\u001b[0m\u001b[0m\n\u001b[1;32m     36\u001b[0m \u001b[0mkd\u001b[0m \u001b[0;34m=\u001b[0m \u001b[0mfits_reader\u001b[0m\u001b[0;34m(\u001b[0m\u001b[0mfitsfile\u001b[0m\u001b[0;34m)\u001b[0m\u001b[0;34m\u001b[0m\u001b[0;34m\u001b[0m\u001b[0m\n\u001b[0;32m---> 37\u001b[0;31m \u001b[0mkd\u001b[0m\u001b[0;34m.\u001b[0m\u001b[0miraf_mosaic\u001b[0m\u001b[0;34m(\u001b[0m\u001b[0mfordisplay\u001b[0m\u001b[0;34m=\u001b[0m\u001b[0;32mTrue\u001b[0m\u001b[0;34m,\u001b[0m \u001b[0mzero\u001b[0m\u001b[0;34m=\u001b[0m\u001b[0;32mTrue\u001b[0m\u001b[0;34m)\u001b[0m\u001b[0;34m\u001b[0m\u001b[0;34m\u001b[0m\u001b[0m\n\u001b[0m\u001b[1;32m     38\u001b[0m \u001b[0mnorm\u001b[0m \u001b[0;34m=\u001b[0m \u001b[0mImageNormalize\u001b[0m\u001b[0;34m(\u001b[0m\u001b[0mkd\u001b[0m\u001b[0;34m.\u001b[0m\u001b[0mmosaic\u001b[0m\u001b[0;34m,\u001b[0m \u001b[0minterval\u001b[0m\u001b[0;34m=\u001b[0m\u001b[0mAsymmetricPercentileInterval\u001b[0m\u001b[0;34m(\u001b[0m\u001b[0;36m0.5\u001b[0m\u001b[0;34m,\u001b[0m\u001b[0;36m99\u001b[0m\u001b[0;34m)\u001b[0m\u001b[0;34m)\u001b[0m\u001b[0;34m\u001b[0m\u001b[0;34m\u001b[0m\u001b[0m\n\u001b[1;32m     39\u001b[0m \u001b[0mplt\u001b[0m\u001b[0;34m.\u001b[0m\u001b[0mfigure\u001b[0m\u001b[0;34m(\u001b[0m\u001b[0mfigsize\u001b[0m\u001b[0;34m=\u001b[0m\u001b[0;34m(\u001b[0m\u001b[0;36m14\u001b[0m\u001b[0;34m,\u001b[0m\u001b[0;36m14\u001b[0m\u001b[0;34m)\u001b[0m\u001b[0;34m)\u001b[0m\u001b[0;34m\u001b[0m\u001b[0;34m\u001b[0m\u001b[0m\n",
      "\u001b[0;32m~/git/KeckData/keckdata/core.py\u001b[0m in \u001b[0;36miraf_mosaic\u001b[0;34m(self, fordisplay, zero, xgap, ygap)\u001b[0m\n\u001b[1;32m    311\u001b[0m                 \u001b[0mDETSEC\u001b[0m\u001b[0;34m[\u001b[0m\u001b[0;34m'y2'\u001b[0m\u001b[0;34m]\u001b[0m \u001b[0;34m-=\u001b[0m \u001b[0;34m(\u001b[0m\u001b[0mCCDSEC\u001b[0m\u001b[0;34m[\u001b[0m\u001b[0;34m'y1'\u001b[0m\u001b[0;34m]\u001b[0m\u001b[0;34m-\u001b[0m\u001b[0;36m1\u001b[0m\u001b[0;34m)\u001b[0m\u001b[0;34m\u001b[0m\u001b[0;34m\u001b[0m\u001b[0m\n\u001b[1;32m    312\u001b[0m                 \u001b[0mDETSEC\u001b[0m\u001b[0;34m[\u001b[0m\u001b[0;34m'y1'\u001b[0m\u001b[0;34m]\u001b[0m \u001b[0;34m-=\u001b[0m \u001b[0;34m(\u001b[0m\u001b[0mCCDSEC\u001b[0m\u001b[0;34m[\u001b[0m\u001b[0;34m'y1'\u001b[0m\u001b[0;34m]\u001b[0m\u001b[0;34m-\u001b[0m\u001b[0;36m1\u001b[0m\u001b[0;34m)\u001b[0m\u001b[0;34m\u001b[0m\u001b[0;34m\u001b[0m\u001b[0m\n\u001b[0;32m--> 313\u001b[0;31m                 \u001b[0mCCDs\u001b[0m\u001b[0;34m[\u001b[0m\u001b[0mCCD\u001b[0m\u001b[0;34m]\u001b[0m\u001b[0;34m[\u001b[0m\u001b[0;34m'data'\u001b[0m\u001b[0;34m]\u001b[0m\u001b[0;34m.\u001b[0m\u001b[0mdata\u001b[0m\u001b[0;34m[\u001b[0m\u001b[0mDETSEC\u001b[0m\u001b[0;34m[\u001b[0m\u001b[0;34m'y1'\u001b[0m\u001b[0;34m]\u001b[0m\u001b[0;34m-\u001b[0m\u001b[0;36m1\u001b[0m\u001b[0;34m:\u001b[0m\u001b[0mDETSEC\u001b[0m\u001b[0;34m[\u001b[0m\u001b[0;34m'y2'\u001b[0m\u001b[0;34m]\u001b[0m\u001b[0;34m,\u001b[0m \u001b[0mDETSEC\u001b[0m\u001b[0;34m[\u001b[0m\u001b[0;34m'x1'\u001b[0m\u001b[0;34m]\u001b[0m\u001b[0;34m-\u001b[0m\u001b[0;36m1\u001b[0m\u001b[0;34m:\u001b[0m\u001b[0mDETSEC\u001b[0m\u001b[0;34m[\u001b[0m\u001b[0;34m'x2'\u001b[0m\u001b[0;34m]\u001b[0m\u001b[0;34m]\u001b[0m \u001b[0;34m=\u001b[0m \u001b[0mimagesection\u001b[0m\u001b[0;34m.\u001b[0m\u001b[0mdata\u001b[0m\u001b[0;34m\u001b[0m\u001b[0;34m\u001b[0m\u001b[0m\n\u001b[0m\u001b[1;32m    314\u001b[0m \u001b[0;34m\u001b[0m\u001b[0m\n\u001b[1;32m    315\u001b[0m         \u001b[0;31m# Assemble the \"detector\" mosaic\u001b[0m\u001b[0;34m\u001b[0m\u001b[0;34m\u001b[0m\u001b[0;34m\u001b[0m\u001b[0m\n",
      "\u001b[0;31mValueError\u001b[0m: could not broadcast input array from shape (2048,512) into shape (1024,512)"
     ]
    }
   ],
   "source": [
    "## DEIMOS\n",
    "# fitsfile = Path('/Volumes/JOSHW/Examples/DEIMOS/deimos.fits')\n",
    "# fitsfile = Path('/Volumes/JOSHW/Examples/DEIMOS/d1026_0037.fits')\n",
    "# fitsfile = Path('/Volumes/JOSHW/Examples/DEIMOS/d1026_0038.fits')\n",
    "# fitsfile = Path('/Volumes/JOSHW/Examples/DEIMOS/d1026_0039.fits')\n",
    "\n",
    "## LRIS Blue\n",
    "# fitsfile = Path('/Volumes/JOSHW/Examples/lris_blue.fits')\n",
    "# fitsfile = Path('/Volumes/JOSHW/Examples/LRIS/2019oct26/bfoc_0001.fits')\n",
    "# fitsfile = Path('/Volumes/JOSHW/Examples/LRIS/2019oct26/b191026_0008.fits')\n",
    "# fitsfile = Path('/Volumes/JOSHW/Examples/LRIS/2019oct28/b191028_0005.fits')\n",
    "# fitsfile = Path('/Volumes/JOSHW/Examples/LRIS/2019oct31/b191031_0004.fits')\n",
    "fitsfile = Path('/Volumes/JOSHW/Examples/LRIS/2019oct31/b191031_0005.fits')\n",
    "# fitsfile = Path('/Volumes/JOSHW/Examples/LRIS/2019oct31/b191031_0006.fits')\n",
    "\n",
    "## LRIS Red\n",
    "# fitsfile = Path('/Volumes/JOSHW/Examples/lris_red.fits')\n",
    "# fitsfile = Path('/Volumes/JOSHW/Examples/LRIS/2019oct26/rfoc_0001.fits')\n",
    "# fitsfile = Path('/Volumes/JOSHW/Examples/LRIS/2019oct26/r191026_0008.fits')\n",
    "# fitsfile = Path('/Volumes/JOSHW/Examples/LRIS/2019oct31/r191031_0001.fits')\n",
    "# fitsfile = Path('/Volumes/JOSHW/Examples/LRIS/2019oct31/r191031_0002.fits')\n",
    "# fitsfile = Path('/Volumes/JOSHW/Examples/LRIS/2019oct31/r191031_0003.fits')\n",
    "# fitsfile = Path('/Volumes/JOSHW/Examples/LRIS/2019oct31/r191031_0004.fits')\n",
    "# fitsfile = Path('/Volumes/JOSHW/Examples/LRIS/2019oct31/r191031_0005.fits')\n",
    "# fitsfile = Path('/Volumes/JOSHW/Examples/LRIS/2019oct31/r191031_0006.fits')\n",
    "# fitsfile = Path('/Volumes/JOSHW/Examples/LRIS/2019oct31/r191031_0007.fits')\n",
    "\n",
    "\n",
    "\n",
    "\n",
    "## HIRES\n",
    "# fitsfile = Path('/Volumes/JOSHW/Examples/hires1.fits')\n",
    "# fitsfile = Path('/Volumes/JOSHW/Examples/hires2.fits')\n",
    "# fitsfile = Path('/Volumes/JOSHW/Examples/hires3.fits')\n",
    "\n",
    "kd = fits_reader(fitsfile)\n",
    "kd.iraf_mosaic(fordisplay=True, zero=True)\n",
    "norm = ImageNormalize(kd.mosaic, interval=AsymmetricPercentileInterval(0.5,99))\n",
    "plt.figure(figsize=(14,14))\n",
    "plt.imshow(kd.mosaic, origin='lower', norm=norm, cmap='gray')\n",
    "plt.show()"
   ]
  },
  {
   "cell_type": "code",
   "execution_count": null,
   "metadata": {},
   "outputs": [],
   "source": []
  },
  {
   "cell_type": "code",
   "execution_count": null,
   "metadata": {},
   "outputs": [],
   "source": []
  },
  {
   "cell_type": "code",
   "execution_count": 3,
   "metadata": {},
   "outputs": [
    {
     "data": {
      "text/plain": [
       "(2, 2)"
      ]
     },
     "execution_count": 3,
     "metadata": {},
     "output_type": "execute_result"
    }
   ],
   "source": [
    "binx, biny = kd.binning()\n",
    "binx, biny"
   ]
  },
  {
   "cell_type": "code",
   "execution_count": 4,
   "metadata": {},
   "outputs": [],
   "source": [
    "xgap = int(20 / binx)\n",
    "ygap = int(20 / biny)\n",
    "fordisplay = True\n",
    "zero = True"
   ]
  },
  {
   "cell_type": "code",
   "execution_count": 5,
   "metadata": {},
   "outputs": [
    {
     "data": {
      "text/plain": [
       "{'00151-14-1': {'CCDNAME': '00151-14-1',\n",
       "  'EXTNAMES': ['VidInp1', 'VidInp2'],\n",
       "  'DETSECS': ['[1:512,1:2048]', '[513:1024,1:2048]'],\n",
       "  'DATASECS': ['[26:537,1:2048]', '[26:537,1:2048]'],\n",
       "  'PDid': [0, 1]},\n",
       " '00152-19-1': {'CCDNAME': '00152-19-1',\n",
       "  'EXTNAMES': ['VidInp3', 'VidInp4'],\n",
       "  'DETSECS': ['[1025:1536,1:2048]', '[1537:2048,1:2048]'],\n",
       "  'DATASECS': ['[26:537,1:2048]', '[26:537,1:2048]'],\n",
       "  'PDid': [2, 3]}}"
      ]
     },
     "execution_count": 5,
     "metadata": {},
     "output_type": "execute_result"
    }
   ],
   "source": [
    "CCDs = {}\n",
    "for i,pd in enumerate(kd.pixeldata):\n",
    "    CCDNAME = pd.header.get('CCDNAME')\n",
    "    EXTNAME = pd.header.get('EXTNAME')\n",
    "    DETSEC = pd.header.get('DETSEC')\n",
    "    DATASEC = pd.header.get('DATASEC')\n",
    "    if CCDNAME not in CCDs.keys():\n",
    "        CCDs[CCDNAME] = {'CCDNAME': CCDNAME,\n",
    "                         'EXTNAMES': [EXTNAME],\n",
    "                         'DETSECS': [DETSEC],\n",
    "                         'DATASECS': [DATASEC],\n",
    "                         'PDid': [i],\n",
    "                        }\n",
    "    else:\n",
    "        CCDs[CCDNAME]['EXTNAMES'].append(EXTNAME)\n",
    "        CCDs[CCDNAME]['DETSECS'].append(DETSEC)\n",
    "        CCDs[CCDNAME]['DATASECS'].append(DATASEC)\n",
    "        CCDs[CCDNAME]['PDid'].append(i)\n",
    "\n",
    "CCDs"
   ]
  },
  {
   "cell_type": "code",
   "execution_count": 6,
   "metadata": {},
   "outputs": [
    {
     "name": "stdout",
     "output_type": "stream",
     "text": [
      "[1:512,1:2048]\n",
      "{'x1': 1, 'x2': 512, 'y1': 1, 'y2': 2048}\n",
      "[513:1024,1:2048]\n",
      "{'x1': 1, 'x2': 1024, 'y1': 1, 'y2': 2048}\n",
      "[1025:1536,1:2048]\n",
      "{'x1': 1025, 'x2': 1536, 'y1': 1, 'y2': 2048}\n",
      "[1537:2048,1:2048]\n",
      "{'x1': 1025, 'x2': 2048, 'y1': 1, 'y2': 2048}\n"
     ]
    },
    {
     "data": {
      "text/plain": [
       "{'00151-14-1': {'CCDNAME': '00151-14-1',\n",
       "  'EXTNAMES': ['VidInp1', 'VidInp2'],\n",
       "  'DETSECS': ['[1:512,1:2048]', '[513:1024,1:2048]'],\n",
       "  'DATASECS': ['[26:537,1:2048]', '[26:537,1:2048]'],\n",
       "  'PDid': [0, 1],\n",
       "  'CCDSEC': {'x1': 1, 'x2': 1024, 'y1': 1, 'y2': 2048}},\n",
       " '00152-19-1': {'CCDNAME': '00152-19-1',\n",
       "  'EXTNAMES': ['VidInp3', 'VidInp4'],\n",
       "  'DETSECS': ['[1025:1536,1:2048]', '[1537:2048,1:2048]'],\n",
       "  'DATASECS': ['[26:537,1:2048]', '[26:537,1:2048]'],\n",
       "  'PDid': [2, 3],\n",
       "  'CCDSEC': {'x1': 1025, 'x2': 2048, 'y1': 1, 'y2': 2048}}}"
      ]
     },
     "execution_count": 6,
     "metadata": {},
     "output_type": "execute_result"
    }
   ],
   "source": [
    "# Form an intermediate CCDSEC which is the position of the data\n",
    "# within each CCD (i.e. combine the amps)\n",
    "for CCD in CCDs.keys():\n",
    "    ccd_sec = None\n",
    "    for j,extname in enumerate(CCDs[CCD]['EXTNAMES']):\n",
    "        DETSEC = split_fits_section(CCDs[CCD]['DETSECS'][j])\n",
    "        if ccd_sec is None:\n",
    "            ccd_sec = {'x1': DETSEC['x1'],\n",
    "                       'x2': DETSEC['x2'],\n",
    "                       'y1': DETSEC['y1'],\n",
    "                       'y2': DETSEC['y2'],\n",
    "                       }\n",
    "        else:\n",
    "            ccd_sec['x1'] = min([ ccd_sec['x1'],  DETSEC['x1'] ])\n",
    "            ccd_sec['x2'] = max([ ccd_sec['x2'],  DETSEC['x2'] ])\n",
    "            ccd_sec['y1'] = min([ ccd_sec['y1'],  DETSEC['y1'] ])\n",
    "            ccd_sec['y2'] = max([ ccd_sec['y2'],  DETSEC['y2'] ])\n",
    "        print(CCDs[CCD]['DETSECS'][j])\n",
    "        print(ccd_sec)\n",
    "    CCDs[CCD]['CCDSEC'] = ccd_sec\n",
    "# Figure out the grid parameters of the chips in the \"detector\" focal plane\n",
    "chips = []\n",
    "for CCD in CCDs.keys():\n",
    "    CCDSEC = CCDs[CCD]['CCDSEC']\n",
    "    chips.append( [CCD,\n",
    "                   int(np.ceil(CCDSEC['x1']/binx)),\n",
    "                   int(np.ceil(CCDSEC['x2']/binx)),\n",
    "                   int(np.ceil(CCDSEC['y1']/biny)),\n",
    "                   int(np.ceil(CCDSEC['y2']/biny)),\n",
    "                  ] )\n",
    "chips.sort(key=lambda c: c[3])\n",
    "chips.sort(key=lambda c: c[1])\n",
    "\n",
    "x1s = sorted( list( set( [c[1] for c in chips] ) ) )\n",
    "y1s = sorted( list( set( [c[3] for c in chips] ) ) )\n",
    "chip_grid = (len(x1s), len(y1s))\n",
    "ngrid = len(x1s) * len(y1s)\n",
    "assert ngrid == len(CCDs)\n",
    "\n",
    "CCDs"
   ]
  },
  {
   "cell_type": "code",
   "execution_count": 7,
   "metadata": {},
   "outputs": [
    {
     "name": "stdout",
     "output_type": "stream",
     "text": [
      "dict_keys(['CCDNAME', 'EXTNAMES', 'DETSECS', 'DATASECS', 'PDid', 'CCDSEC'])\n",
      "{'x1': 1, 'x2': 1024, 'y1': 1, 'y2': 2048}\n",
      "dict_keys(['CCDNAME', 'EXTNAMES', 'DETSECS', 'DATASECS', 'PDid', 'CCDSEC'])\n",
      "{'x1': 1025, 'x2': 2048, 'y1': 1, 'y2': 2048}\n"
     ]
    }
   ],
   "source": [
    "for CCD in CCDs:\n",
    "    print(CCDs[CCD].keys())\n",
    "    print(CCDs[CCD]['CCDSEC'])"
   ]
  },
  {
   "cell_type": "code",
   "execution_count": null,
   "metadata": {},
   "outputs": [],
   "source": [
    "for CCD in CCDs.keys():\n",
    "    CCDSEC = CCDs[CCD]['CCDSEC']\n",
    "    ccd_size_y = int((CCDSEC['y2'] - CCDSEC['y1'] + 1)/biny)\n",
    "    ccd_size_x = int((CCDSEC['x2'] - CCDSEC['x1'] + 1)/binx)\n",
    "    CCDs[CCD]['data'] = CCDData(data=np.zeros((ccd_size_y, ccd_size_x)), unit=unit )\n",
    "    for j,extname in enumerate(CCDs[CCD]['EXTNAMES']):\n",
    "        PDid = CCDs[CCD]['PDid'][j]\n",
    "        DETSEC = split_fits_section(CCDs[CCD]['DETSECS'][j])\n",
    "        DATASEC = split_fits_section(CCDs[CCD]['DATASECS'][j])\n",
    "        \n",
    "#         newDETSEC = \n",
    "        print(DETSEC['y1']-1, DETSEC['y2'], DETSEC['x1']-1, DETSEC['x2'])\n",
    "        print(y1, y2, x1, x2)"
   ]
  },
  {
   "cell_type": "code",
   "execution_count": 8,
   "metadata": {},
   "outputs": [
    {
     "name": "stdout",
     "output_type": "stream",
     "text": [
      "512 1024\n",
      "0 2048 0 512\n",
      "0 2048 25 537\n",
      "(2048, 512)\n",
      "{'x1': 1, 'x2': 512, 'y1': 1, 'y2': 2048, 'xreverse': False, 'yreverse': False}\n",
      "(1024, 512)\n"
     ]
    },
    {
     "ename": "ValueError",
     "evalue": "could not broadcast input array from shape (2048,512) into shape (1024,512)",
     "output_type": "error",
     "traceback": [
      "\u001b[0;31m---------------------------------------------------------------------------\u001b[0m",
      "\u001b[0;31mValueError\u001b[0m                                Traceback (most recent call last)",
      "\u001b[0;32m<ipython-input-8-26dfc677de54>\u001b[0m in \u001b[0;36m<module>\u001b[0;34m\u001b[0m\n\u001b[1;32m     30\u001b[0m         \u001b[0mprint\u001b[0m\u001b[0;34m(\u001b[0m\u001b[0mDETSEC\u001b[0m\u001b[0;34m)\u001b[0m\u001b[0;34m\u001b[0m\u001b[0;34m\u001b[0m\u001b[0m\n\u001b[1;32m     31\u001b[0m         \u001b[0mprint\u001b[0m\u001b[0;34m(\u001b[0m\u001b[0mCCDs\u001b[0m\u001b[0;34m[\u001b[0m\u001b[0mCCD\u001b[0m\u001b[0;34m]\u001b[0m\u001b[0;34m[\u001b[0m\u001b[0;34m'data'\u001b[0m\u001b[0;34m]\u001b[0m\u001b[0;34m.\u001b[0m\u001b[0mdata\u001b[0m\u001b[0;34m[\u001b[0m\u001b[0mDETSEC\u001b[0m\u001b[0;34m[\u001b[0m\u001b[0;34m'y1'\u001b[0m\u001b[0;34m]\u001b[0m\u001b[0;34m-\u001b[0m\u001b[0;36m1\u001b[0m\u001b[0;34m:\u001b[0m\u001b[0mDETSEC\u001b[0m\u001b[0;34m[\u001b[0m\u001b[0;34m'y2'\u001b[0m\u001b[0;34m]\u001b[0m\u001b[0;34m,\u001b[0m \u001b[0mDETSEC\u001b[0m\u001b[0;34m[\u001b[0m\u001b[0;34m'x1'\u001b[0m\u001b[0;34m]\u001b[0m\u001b[0;34m-\u001b[0m\u001b[0;36m1\u001b[0m\u001b[0;34m:\u001b[0m\u001b[0mDETSEC\u001b[0m\u001b[0;34m[\u001b[0m\u001b[0;34m'x2'\u001b[0m\u001b[0;34m]\u001b[0m\u001b[0;34m]\u001b[0m\u001b[0;34m.\u001b[0m\u001b[0mshape\u001b[0m\u001b[0;34m)\u001b[0m\u001b[0;34m\u001b[0m\u001b[0;34m\u001b[0m\u001b[0m\n\u001b[0;32m---> 32\u001b[0;31m         \u001b[0mCCDs\u001b[0m\u001b[0;34m[\u001b[0m\u001b[0mCCD\u001b[0m\u001b[0;34m]\u001b[0m\u001b[0;34m[\u001b[0m\u001b[0;34m'data'\u001b[0m\u001b[0;34m]\u001b[0m\u001b[0;34m.\u001b[0m\u001b[0mdata\u001b[0m\u001b[0;34m[\u001b[0m\u001b[0mDETSEC\u001b[0m\u001b[0;34m[\u001b[0m\u001b[0;34m'y1'\u001b[0m\u001b[0;34m]\u001b[0m\u001b[0;34m-\u001b[0m\u001b[0;36m1\u001b[0m\u001b[0;34m:\u001b[0m\u001b[0mDETSEC\u001b[0m\u001b[0;34m[\u001b[0m\u001b[0;34m'y2'\u001b[0m\u001b[0;34m]\u001b[0m\u001b[0;34m,\u001b[0m \u001b[0mDETSEC\u001b[0m\u001b[0;34m[\u001b[0m\u001b[0;34m'x1'\u001b[0m\u001b[0;34m]\u001b[0m\u001b[0;34m-\u001b[0m\u001b[0;36m1\u001b[0m\u001b[0;34m:\u001b[0m\u001b[0mDETSEC\u001b[0m\u001b[0;34m[\u001b[0m\u001b[0;34m'x2'\u001b[0m\u001b[0;34m]\u001b[0m\u001b[0;34m]\u001b[0m \u001b[0;34m=\u001b[0m \u001b[0mimagesection\u001b[0m\u001b[0;34m.\u001b[0m\u001b[0mdata\u001b[0m\u001b[0;34m\u001b[0m\u001b[0;34m\u001b[0m\u001b[0m\n\u001b[0m\u001b[1;32m     33\u001b[0m \u001b[0;34m\u001b[0m\u001b[0m\n\u001b[1;32m     34\u001b[0m \u001b[0;31m# CCDs\u001b[0m\u001b[0;34m\u001b[0m\u001b[0;34m\u001b[0m\u001b[0;34m\u001b[0m\u001b[0m\n",
      "\u001b[0;31mValueError\u001b[0m: could not broadcast input array from shape (2048,512) into shape (1024,512)"
     ]
    }
   ],
   "source": [
    "# Using the CCDSEC info, form the data for each CCD chip\n",
    "unit = set([pd.unit for pd in kd.pixeldata]).pop()\n",
    "meanlv = None\n",
    "for CCD in CCDs.keys():\n",
    "    CCDSEC = CCDs[CCD]['CCDSEC']\n",
    "    ccd_size_y = int((CCDSEC['y2'] - CCDSEC['y1'] + 1)/biny)\n",
    "    ccd_size_x = int((CCDSEC['x2'] - CCDSEC['x1'] + 1)/binx)\n",
    "    print(ccd_size_x, ccd_size_y)\n",
    "    CCDs[CCD]['data'] = CCDData(data=np.zeros((ccd_size_y, ccd_size_x)), unit=unit )\n",
    "    for j,extname in enumerate(CCDs[CCD]['EXTNAMES']):\n",
    "        PDid = CCDs[CCD]['PDid'][j]\n",
    "        DETSEC = split_fits_section(CCDs[CCD]['DETSECS'][j])\n",
    "        DATASEC = split_fits_section(CCDs[CCD]['DATASECS'][j])\n",
    "        print(DETSEC['y1']-1, DETSEC['y2'], DETSEC['x1']-1, DETSEC['x2'])\n",
    "        print(DATASEC['y1']-1, DATASEC['y2'], DATASEC['x1']-1, DATASEC['x2'])\n",
    "        imagesection = kd.pixeldata[PDid][DATASEC['y1']-1:DATASEC['y2'], DATASEC['x1']-1:DATASEC['x2']]\n",
    "        if DETSEC['xreverse'] is True:\n",
    "            imagesection.data = np.fliplr(imagesection.data)\n",
    "        if DETSEC['yreverse'] is True:\n",
    "            imagesection.data = np.flipud(imagesection.data)\n",
    "        if fordisplay is True:\n",
    "            if meanlv is None:\n",
    "                meanlv = np.percentile(imagesection.data, 0.1) if zero is False else 0\n",
    "            imagesection -= np.percentile(imagesection.data, 0.1) + meanlv\n",
    "        DETSEC['x2'] -= (CCDSEC['x1']-1)\n",
    "        DETSEC['x1'] -= (CCDSEC['x1']-1)\n",
    "        DETSEC['y2'] -= (CCDSEC['y1']-1)\n",
    "        DETSEC['y1'] -= (CCDSEC['y1']-1)\n",
    "        print(imagesection.data.shape)\n",
    "        print(DETSEC)\n",
    "        print(CCDs[CCD]['data'].data[DETSEC['y1']-1:DETSEC['y2'], DETSEC['x1']-1:DETSEC['x2']].shape)\n",
    "        CCDs[CCD]['data'].data[DETSEC['y1']-1:DETSEC['y2'], DETSEC['x1']-1:DETSEC['x2']] = imagesection.data\n",
    "\n",
    "# CCDs"
   ]
  },
  {
   "cell_type": "code",
   "execution_count": null,
   "metadata": {},
   "outputs": [],
   "source": [
    "# Assemble the \"detector\" mosaic\n",
    "for i,chip in enumerate(chips):\n",
    "    CCD, CCDx1, CCDx2, CCDy1, CCDy2 = chip\n",
    "    gridxpos = x1s.index(CCDx1)\n",
    "    gridypos = y1s.index(CCDy1)\n",
    "    CCDSEC = CCDs[CCD]['CCDSEC']\n",
    "    CCDx1 += (2*gridxpos-1)*xgap if gridxpos > 0 else 0\n",
    "    CCDx2 += (2*gridxpos+1)*xgap if gridxpos < len(x1s)-1 else (2*gridxpos)*xgap\n",
    "    CCDy1 += (2*gridypos-1)*ygap if gridypos > 0 else 0\n",
    "    CCDy2 += (2*gridypos+1)*ygap if gridypos < len(y1s)-1 else (2*gridypos)*ygap\n",
    "    chips[i] = [CCD, CCDx1, CCDx2, CCDy1, CCDy2, gridxpos, gridypos]\n",
    "\n",
    "# CCDs"
   ]
  },
  {
   "cell_type": "code",
   "execution_count": null,
   "metadata": {},
   "outputs": [],
   "source": [
    "xmax = max([chip[2] for chip in chips])\n",
    "ymax = max([chip[4] for chip in chips])\n",
    "# print(chips)\n",
    "mosaic = CCDData(data=np.zeros((ymax, xmax)), unit=unit )\n",
    "for i,chip in enumerate(chips):\n",
    "    CCD, CCDx1, CCDx2, CCDy1, CCDy2, gridxpos, gridypos = chip\n",
    "    MOSx1 = CCDx1+xgap-1 if gridxpos > 0 else CCDx1-1\n",
    "    MOSx1 = max( [MOSx1, 0] ) # Ensure we're above 0\n",
    "    MOSx2 = MOSx1 + CCDs[CCD]['data'].data.shape[1]\n",
    "    MOSy1 = CCDy1+ygap-1 if gridypos > 0 else CCDy1-1\n",
    "    MOSy1 = max( [MOSy1, 0] )\n",
    "    MOSy2 = MOSy1 + CCDs[CCD]['data'].data.shape[0]\n",
    "#     print()\n",
    "#     print(CCDx1, CCDx2, gridxpos, CCDx1+xgap-1)\n",
    "#     print(MOSx1, MOSx2)\n",
    "    mosaic.data[MOSy1:MOSy2,MOSx1:MOSx2] = CCDs[CCD]['data'].data\n",
    "    \n",
    "# mosaic.data"
   ]
  },
  {
   "cell_type": "code",
   "execution_count": null,
   "metadata": {},
   "outputs": [],
   "source": [
    "norm = ImageNormalize(mosaic, interval=AsymmetricPercentileInterval(2, 99))\n",
    "plt.figure(figsize=(14,10))\n",
    "plt.imshow(mosaic, norm=norm, cmap='gray', origin='lower')\n",
    "plt.show()"
   ]
  },
  {
   "cell_type": "code",
   "execution_count": null,
   "metadata": {},
   "outputs": [],
   "source": []
  },
  {
   "cell_type": "code",
   "execution_count": null,
   "metadata": {},
   "outputs": [],
   "source": []
  },
  {
   "cell_type": "code",
   "execution_count": null,
   "metadata": {},
   "outputs": [],
   "source": []
  }
 ],
 "metadata": {
  "kernelspec": {
   "display_name": "Python 3",
   "language": "python",
   "name": "python3"
  },
  "language_info": {
   "codemirror_mode": {
    "name": "ipython",
    "version": 3
   },
   "file_extension": ".py",
   "mimetype": "text/x-python",
   "name": "python",
   "nbconvert_exporter": "python",
   "pygments_lexer": "ipython3",
   "version": "3.6.9"
  }
 },
 "nbformat": 4,
 "nbformat_minor": 4
}
